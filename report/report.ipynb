{
 "cells": [
  {
   "cell_type": "markdown",
   "metadata": {},
   "source": [
    "## Part 1"
   ]
  },
  {
   "cell_type": "markdown",
   "metadata": {},
   "source": [
    "## Part 2"
   ]
  },
  {
   "cell_type": "markdown",
   "metadata": {},
   "source": [
    "#### Question 2. \n",
    "\n",
    "I would rate my knowledge as a 1 out of 5. All I knew coming into this was that it is very popular across the globe, with a large presence in India. It took longer than I would like to admit on how long it took me to rewire my brain on some of the wordings like `ball`, `over`, and `inning` with a strong prior on what those words mean from baseball. \n",
    "\n",
    "#### Question 3a.\n",
    "\n",
    "The script `staging.py` will generate the output of `reports/q3a.csv` to get the dataset of runs and wickets per over for each delivery in a match. "
   ]
  },
  {
   "cell_type": "code",
   "execution_count": 3,
   "metadata": {
    "vscode": {
     "languageId": "plaintext"
    }
   },
   "outputs": [
    {
     "data": {
      "text/html": [
       "<div><style>\n",
       ".dataframe > thead > tr,\n",
       ".dataframe > tbody > tr {\n",
       "  text-align: right;\n",
       "  white-space: pre-wrap;\n",
       "}\n",
       "</style>\n",
       "<small>shape: (5, 6)</small><table border=\"1\" class=\"dataframe\"><thead><tr><th>team</th><th>matchid</th><th>over</th><th>ball</th><th>runs</th><th>wickets</th></tr><tr><td>str</td><td>i64</td><td>i64</td><td>i64</td><td>i64</td><td>i64</td></tr></thead><tbody><tr><td>&quot;England&quot;</td><td>225252</td><td>33</td><td>2</td><td>1</td><td>0</td></tr><tr><td>&quot;India&quot;</td><td>565816</td><td>39</td><td>6</td><td>1</td><td>0</td></tr><tr><td>&quot;United Arab Emirates&quot;</td><td>1170456</td><td>16</td><td>5</td><td>0</td><td>0</td></tr><tr><td>&quot;New Zealand&quot;</td><td>300439</td><td>0</td><td>6</td><td>0</td><td>0</td></tr><tr><td>&quot;Hong Kong&quot;</td><td>1078661</td><td>26</td><td>4</td><td>0</td><td>0</td></tr></tbody></table></div>"
      ],
      "text/plain": [
       "shape: (5, 6)\n",
       "┌──────────────────────┬─────────┬──────┬──────┬──────┬─────────┐\n",
       "│ team                 ┆ matchid ┆ over ┆ ball ┆ runs ┆ wickets │\n",
       "│ ---                  ┆ ---     ┆ ---  ┆ ---  ┆ ---  ┆ ---     │\n",
       "│ str                  ┆ i64     ┆ i64  ┆ i64  ┆ i64  ┆ i64     │\n",
       "╞══════════════════════╪═════════╪══════╪══════╪══════╪═════════╡\n",
       "│ England              ┆ 225252  ┆ 33   ┆ 2    ┆ 1    ┆ 0       │\n",
       "│ India                ┆ 565816  ┆ 39   ┆ 6    ┆ 1    ┆ 0       │\n",
       "│ United Arab Emirates ┆ 1170456 ┆ 16   ┆ 5    ┆ 0    ┆ 0       │\n",
       "│ New Zealand          ┆ 300439  ┆ 0    ┆ 6    ┆ 0    ┆ 0       │\n",
       "│ Hong Kong            ┆ 1078661 ┆ 26   ┆ 4    ┆ 0    ┆ 0       │\n",
       "└──────────────────────┴─────────┴──────┴──────┴──────┴─────────┘"
      ]
     },
     "execution_count": null,
     "metadata": {},
     "output_type": "execute_result"
    }
   ],
   "source": [
    "import polars as pl\n",
    "pl.read_csv('q3a.csv').head()"
   ]
  },
  {
   "cell_type": "markdown",
   "metadata": {},
   "source": [
    "#### Question 3b. "
   ]
  },
  {
   "cell_type": "code",
   "execution_count": null,
   "metadata": {
    "vscode": {
     "languageId": "plaintext"
    }
   },
   "outputs": [],
   "source": []
  }
 ],
 "metadata": {
  "language_info": {
   "name": "python"
  }
 },
 "nbformat": 4,
 "nbformat_minor": 2
}
